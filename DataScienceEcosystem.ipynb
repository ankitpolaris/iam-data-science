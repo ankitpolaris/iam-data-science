{
 "cells": [
  {
   "cell_type": "markdown",
   "id": "732ce8e4-5249-441e-a38b-d2a9ff6a5d19",
   "metadata": {},
   "source": [
    "# Data Science Tools and Ecosystem"
   ]
  },
  {
   "cell_type": "markdown",
   "id": "a335a3ad-c018-44b1-ba9d-c9687dbaf679",
   "metadata": {
    "tags": []
   },
   "source": [
    "In this notebook, Data Science Tools and Ecosystem are summarized."
   ]
  },
  {
   "cell_type": "markdown",
   "id": "73533988-0abd-4d02-81f2-4be8e9d99c15",
   "metadata": {},
   "source": [
    "Some of the popular languages that Data Scientists use are:\n",
    "1. Python\n",
    "2. R Language\n",
    "3. SQL (Structured Query Language)\n",
    "4. Java\n",
    "5. C++\n",
    "6. JavaScript\n",
    "7. Julia"
   ]
  },
  {
   "cell_type": "markdown",
   "id": "fe7401c4-d0eb-4aaa-a047-9f4faa7502bb",
   "metadata": {},
   "source": [
    "Some of the commonly used libraries used by Data Scientists include:\n",
    "1. Pandas : Tools for data cleaning, manipulation and analysis.\n",
    "2. Numpy : Arrays and matrices\n",
    "3. Matplotlib : for Data visualization\n",
    "4. Seaborn\n",
    "5. Scikit-learn\n",
    "6. Keras : for deep learning\n",
    "7. ggplot2 : for visualization in R language"
   ]
  },
  {
   "cell_type": "markdown",
   "id": "86afdb55-5151-4fbc-97d2-ebd6b31d0ca0",
   "metadata": {},
   "source": [
    "| Data Science Tools |\n",
    "|:-----------|\n",
    "| Jupyter Notebook and Jupyter Lab | Github & Gitlab  | R language |\n",
    "| Apache Spark |"
   ]
  },
  {
   "cell_type": "markdown",
   "id": "747a4d89-8215-46ef-86df-d95505886108",
   "metadata": {
    "tags": []
   },
   "source": [
    "### Below are a few examples of evaluating arithmetic expressions in Python"
   ]
  },
  {
   "cell_type": "code",
   "execution_count": 4,
   "id": "484d7361-bb03-431d-a2d6-23d8ada86b3b",
   "metadata": {
    "tags": []
   },
   "outputs": [
    {
     "data": {
      "text/plain": [
       "17"
      ]
     },
     "execution_count": 4,
     "metadata": {},
     "output_type": "execute_result"
    }
   ],
   "source": [
    "# This a simple arithmetic expression to mutiply then add integers\n",
    "(3*4)+5"
   ]
  },
  {
   "cell_type": "code",
   "execution_count": 5,
   "id": "c610f4c7-060f-4181-b734-c6415c63b3a2",
   "metadata": {
    "tags": []
   },
   "outputs": [
    {
     "data": {
      "text/plain": [
       "3.3333333333333335"
      ]
     },
     "execution_count": 5,
     "metadata": {},
     "output_type": "execute_result"
    }
   ],
   "source": [
    "# This will convert 200 minutes to hours by diving by 60\n",
    "\n",
    "200 / 60"
   ]
  },
  {
   "cell_type": "markdown",
   "id": "3fcc01a7-92dc-4b60-b754-6e1cf902c867",
   "metadata": {},
   "source": [
    "**Objectives:**\n",
    "* List popular languages for Data Science\n",
    "* Get familiar with Open Source,  Cloud-based,  and Commercial tools\n",
    "* Understanding the basics of the R language.\n",
    "* Understanding the uses of SQL.\n",
    "* Understanding of Jupyter Notebook and Jupyter Lab\n",
    "* Understanding of open Data sets and Data Asset Exchange. \n",
    "* Understanding of REST API's.\n",
    "* Understanding and hands-on of Github and Gitlab. \n",
    "* Basic overview of languages Java, Scala, C++, JavaScript, and Julia."
   ]
  },
  {
   "cell_type": "code",
   "execution_count": null,
   "id": "300a445f-7fc7-4036-8206-5745050008f8",
   "metadata": {},
   "outputs": [],
   "source": []
  }
 ],
 "metadata": {
  "kernelspec": {
   "display_name": "Python",
   "language": "python",
   "name": "conda-env-python-py"
  },
  "language_info": {
   "codemirror_mode": {
    "name": "ipython",
    "version": 3
   },
   "file_extension": ".py",
   "mimetype": "text/x-python",
   "name": "python",
   "nbconvert_exporter": "python",
   "pygments_lexer": "ipython3",
   "version": "3.7.12"
  }
 },
 "nbformat": 4,
 "nbformat_minor": 5
}
